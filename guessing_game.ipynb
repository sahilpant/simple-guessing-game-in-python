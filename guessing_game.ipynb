{
 "cells": [
  {
   "cell_type": "code",
   "execution_count": 1,
   "metadata": {},
   "outputs": [],
   "source": [
    "import random\n",
    "guess = random.randint(1,100)"
   ]
  },
  {
   "cell_type": "code",
   "execution_count": 2,
   "metadata": {},
   "outputs": [
    {
     "name": "stdout",
     "output_type": "stream",
     "text": [
      "Welcome to the guessing game here \n",
      "we will take a random number between 1 to 100 \n",
      "and you have to guess the number::\n",
      "The rules are simple==>\n",
      "On a player's first turn, \n",
      "if their guess is within 10 of the number WARM will be displayed \n",
      "further than 10 away from the number will COLD will be displayed\n",
      "closer to the number than the previous guess WARMER will be displayed \n",
      "farther from the number than the previous guess COLDER will be displayed\n"
     ]
    }
   ],
   "source": [
    "print(\"Welcome to the guessing game here \\nwe will take a random number between 1 to 100 \\nand you have to guess the number::\")\n",
    "print(\"The rules are simple==>\")\n",
    "print(\"On a player's first turn, \\nif their guess is within 10 of the number WARM will be displayed \\nfurther than 10 away from the number will COLD will be displayed\")\n",
    "print(\"closer to the number than the previous guess WARMER will be displayed \\nfarther from the number than the previous guess COLDER will be displayed\")"
   ]
  },
  {
   "cell_type": "code",
   "execution_count": 3,
   "metadata": {},
   "outputs": [],
   "source": [
    "guesses = [0]"
   ]
  },
  {
   "cell_type": "code",
   "execution_count": 4,
   "metadata": {},
   "outputs": [],
   "source": [
    "def func_guess():\n",
    "    while True:\n",
    "        player_guess = int(input(\"Enter your guess::\"))\n",
    "        if player_guess < 1 or player_guess>100:\n",
    "            print(\"OUT OF BOUNDS\")\n",
    "        else:\n",
    "            return player_guess"
   ]
  },
  {
   "cell_type": "code",
   "execution_count": 5,
   "metadata": {},
   "outputs": [
    {
     "name": "stdout",
     "output_type": "stream",
     "text": [
      "Enter your guess::50\n",
      "COLD\n",
      "Enter your guess::60\n",
      "COLDER\n",
      "Enter your guess::70\n",
      "COLDER\n",
      "Enter your guess::30\n",
      "WARMER\n",
      "Enter your guess::40\n",
      "COLDER\n",
      "Enter your guess::20\n",
      "WARMER\n",
      "Enter your guess::10\n",
      "WARMER\n",
      "Enter your guess::1\n",
      "COLDER\n",
      "Enter your guess::5\n",
      "WARMER\n",
      "Enter your guess::9\n",
      "WARMER\n",
      "Enter your guess::6\n",
      "COLDER\n",
      "Enter your guess::8\n",
      "WARMER\n",
      "Enter your guess::7\n",
      "COLDER\n",
      "Enter your guess::11\n",
      "WARMER\n",
      "Enter your guess::12\n",
      "WARMER\n",
      "Enter your guess::15\n",
      "COLDER\n",
      "Enter your guess::13\n",
      "You have guessed the number! \n",
      "It took you 17 guesses\n"
     ]
    }
   ],
   "source": [
    "ctr = 0\n",
    "while True:\n",
    "    ctr+=1\n",
    "    player_guess = func_guess()\n",
    "    if player_guess == guess:\n",
    "        print(f\"You have guessed the number! \\nIt took you {ctr} guesses\")\n",
    "        break\n",
    "    else:\n",
    "        guesses.append(player_guess)\n",
    "        if guesses[-2]:\n",
    "            if abs(guess - guesses[-2]) > abs(guess - guesses[-1]):\n",
    "                print(\"WARMER\")\n",
    "            else:\n",
    "                print(\"COLDER\")\n",
    "        else:\n",
    "            if abs(guess - guesses[-1]) <= 10:\n",
    "                print(\"WARM\")\n",
    "            else:\n",
    "                print(\"COLD\")"
   ]
  }
 ],
 "metadata": {
  "kernelspec": {
   "display_name": "Python 3.8.2 64-bit",
   "language": "python",
   "name": "python38264bitedc90fcc04784ab5bf5ea098e65bb5c3"
  },
  "language_info": {
   "codemirror_mode": {
    "name": "ipython",
    "version": 3
   },
   "file_extension": ".py",
   "mimetype": "text/x-python",
   "name": "python",
   "nbconvert_exporter": "python",
   "pygments_lexer": "ipython3",
   "version": "3.8.2"
  }
 },
 "nbformat": 4,
 "nbformat_minor": 4
}
